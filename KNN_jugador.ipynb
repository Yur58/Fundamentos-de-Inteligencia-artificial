{
  "nbformat": 4,
  "nbformat_minor": 0,
  "metadata": {
    "colab": {
      "provenance": [],
      "authorship_tag": "ABX9TyOTDNGef+NysCqH4E0sv4Np",
      "include_colab_link": true
    },
    "kernelspec": {
      "name": "python3",
      "display_name": "Python 3"
    },
    "language_info": {
      "name": "python"
    }
  },
  "cells": [
    {
      "cell_type": "markdown",
      "metadata": {
        "id": "view-in-github",
        "colab_type": "text"
      },
      "source": [
        "<a href=\"https://colab.research.google.com/github/Yur58/Fundamentos-de-Inteligencia-artificial/blob/main/KNN_jugador.ipynb\" target=\"_parent\"><img src=\"https://colab.research.google.com/assets/colab-badge.svg\" alt=\"Open In Colab\"/></a>"
      ]
    },
    {
      "cell_type": "code",
      "execution_count": null,
      "metadata": {
        "colab": {
          "base_uri": "https://localhost:8080/"
        },
        "id": "ESLvaeTKLFGe",
        "outputId": "a5a2b1e6-5bdc-4524-9172-3125ae798732"
      },
      "outputs": [
        {
          "output_type": "stream",
          "name": "stdout",
          "text": [
            "Hola Mundo\n"
          ]
        }
      ],
      "source": [
        "from sklearn.neighbors import KNeighborsClassifier\n",
        "import pandas as pd\n",
        "\n",
        "ruta_archivo='dataset.xlsx'\n",
        "try:\n",
        "    df=pd.read_excel(ruta_archivo)\n",
        "    print(\"archivo carado exitosamente:\")\n",
        "    print(df.head())\n",
        "except FileExistsError:\n",
        "    print(\"Error: el archivo no se encontró. Verifica la ruta.\")\n",
        "except Exception as e:\n",
        "    print(f\"Error al leer el archivo: {e}\")\n",
        "    exit(1)\n",
        "\n",
        "#selecciona las columnas de características y etiquetas\n",
        "X=df[['Velocidad','Agilidad']].values\n",
        "y= df['¿Jugador profesional?'].values\n",
        "\n",
        "#Nuevo punto a clasificar\n",
        "nuevo_punto=[[6.75,3.0]]\n",
        "\n",
        "k = 5                   # Número de vecinos\n",
        "\n",
        "# Programa\n",
        "\n",
        "\n",
        "# Crear y entrenar el modelo KNN con k=3\n",
        "knn = KNeighborsClassifier(n_neighbors=k)\n",
        "knn.fit(X, y)\n",
        "\n",
        "# Clasificar con KNN\n",
        "prediccion = knn.predict(nuevo_punto)\n",
        "vecinos = knn.kneighbors(nuevo_punto, return_distance=False)\n",
        "\n",
        "# Imprimir información\n",
        "for i, nuevo_punto in enumerate(nuevo_punto):\n",
        "    print(f\"Punto nuevo:{nuevo_punto}\")\n",
        "    print(f\"¿el jugador es profesional?: {prediccion}\")\n",
        "    print(f\"IDs (índices) de los {k} vecinos más cercanos: {vecinos}\")\n",
        "    print(\"\")\n",
        "\n"
      ]
    }
  ]
}