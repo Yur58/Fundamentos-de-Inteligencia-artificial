{
  "nbformat": 4,
  "nbformat_minor": 0,
  "metadata": {
    "colab": {
      "provenance": [],
      "include_colab_link": true
    },
    "kernelspec": {
      "name": "python3",
      "display_name": "Python 3"
    },
    "language_info": {
      "name": "python"
    }
  },
  "cells": [
    {
      "cell_type": "markdown",
      "metadata": {
        "id": "view-in-github",
        "colab_type": "text"
      },
      "source": [
        "<a href=\"https://colab.research.google.com/github/Yur58/Fundamentos-de-Inteligencia-artificial/blob/main/KNN_PuntosNuevos_iris.ipynb\" target=\"_parent\"><img src=\"https://colab.research.google.com/assets/colab-badge.svg\" alt=\"Open In Colab\"/></a>"
      ]
    },
    {
      "cell_type": "markdown",
      "source": [
        "# CÓDIGO"
      ],
      "metadata": {
        "id": "f3XTm9Kqjban"
      }
    },
    {
      "cell_type": "code",
      "source": [
        "from sklearn.datasets import load_iris\n",
        "from sklearn.neighbors import KNeighborsClassifier\n",
        "import pandas as pd\n",
        "\n",
        "# Variables para modificar\n",
        "nuevos_puntos=[\n",
        "    [5.1, 3.5, 1.5, 0.8],\n",
        "    [6.2, 2.8, 4.8, 1.8],\n",
        "    [5.9, 3.0, 5.1, 1.8],\n",
        "    [4.7, 3.2, 1.3, 0.2],\n",
        "    [6.0, 2.2, 4.0, 1.0]\n",
        "    ] #longitud del sepalo, ancho del sepalo, long petalo, ancho del petalo\n",
        "k = 5                   # Número de vecinos\n",
        "\n",
        "# Programa\n",
        "\n",
        "# Crear datos sintéticos\n",
        "X, y = load_iris(return_X_y=True)\n",
        "feature_names = load_iris().feature_names\n",
        "# Crear dataframe\n",
        "df = pd.DataFrame(X, columns=feature_names)\n",
        "df['Target'] = y\n",
        "target_names = load_iris().target_names\n",
        "\n",
        "# Crear y entrenar el modelo KNN con k=3\n",
        "knn = KNeighborsClassifier(n_neighbors=k)\n",
        "knn.fit(X, y)\n",
        "\n",
        "# Clasificar con KNN\n",
        "predicciones = knn.predict(nuevos_puntos)\n",
        "vecinos = knn.kneighbors(nuevos_puntos, return_distance=False)\n",
        "\n",
        "# Imprimir información\n",
        "for i, nuevo_punto in enumerate(nuevos_puntos):\n",
        "    clase_nombre= target_names[predicciones[i]]\n",
        "    print(f\"Punto {i+1}:{nuevo_punto}\")\n",
        "    print(f\"Clase predicha: {clase_nombre}\")\n",
        "    print(f\"IDs (índices) de los {k} vecinos más cercanos: {vecinos[i]}\")\n",
        "    print(\"\")\n"
      ],
      "metadata": {
        "colab": {
          "base_uri": "https://localhost:8080/"
        },
        "id": "QhBceBxKYJMP",
        "outputId": "07ad1be7-7447-4a20-a080-ab37cf6713d6"
      },
      "execution_count": null,
      "outputs": [
        {
          "output_type": "stream",
          "name": "stdout",
          "text": [
            "Punto 1:[5.1, 3.5, 1.5, 0.8]\n",
            "Clase predicha: setosa\n",
            "IDs (índices) de los 5 vecinos más cercanos: [43 23 26 21 17]\n",
            "\n",
            "Punto 2:[6.2, 2.8, 4.8, 1.8]\n",
            "Clase predicha: virginica\n",
            "IDs (índices) de los 5 vecinos más cercanos: [126 123 127 138 146]\n",
            "\n",
            "Punto 3:[5.9, 3.0, 5.1, 1.8]\n",
            "Clase predicha: virginica\n",
            "IDs (índices) de los 5 vecinos más cercanos: [149 127 138 101 142]\n",
            "\n",
            "Punto 4:[4.7, 3.2, 1.3, 0.2]\n",
            "Clase predicha: setosa\n",
            "IDs (índices) de los 5 vecinos más cercanos: [ 2 47  3  6 12]\n",
            "\n",
            "Punto 5:[6.0, 2.2, 4.0, 1.0]\n",
            "Clase predicha: versicolor\n",
            "IDs (índices) de los 5 vecinos más cercanos: [62 92 69 67 80]\n",
            "\n"
          ]
        }
      ]
    }
  ]
}
