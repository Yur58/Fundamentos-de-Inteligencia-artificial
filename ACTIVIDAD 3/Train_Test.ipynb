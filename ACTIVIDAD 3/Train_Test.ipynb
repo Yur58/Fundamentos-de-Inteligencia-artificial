{
  "nbformat": 4,
  "nbformat_minor": 0,
  "metadata": {
    "colab": {
      "provenance": [],
      "authorship_tag": "ABX9TyNrjz75YCzS1H2UdLYCITfN",
      "include_colab_link": true
    },
    "kernelspec": {
      "name": "python3",
      "display_name": "Python 3"
    },
    "language_info": {
      "name": "python"
    }
  },
  "cells": [
    {
      "cell_type": "markdown",
      "metadata": {
        "id": "view-in-github",
        "colab_type": "text"
      },
      "source": [
        "<a href=\"https://colab.research.google.com/github/Yur58/Fundamentos-de-Inteligencia-artificial/blob/main/Actividad_semana_6.ipynb\" target=\"_parent\"><img src=\"https://colab.research.google.com/assets/colab-badge.svg\" alt=\"Open In Colab\"/></a>"
      ]
    },
    {
      "cell_type": "code",
      "execution_count": 4,
      "metadata": {
        "colab": {
          "base_uri": "https://localhost:8080/"
        },
        "id": "w_DoxdROWJqx",
        "outputId": "dafbda50-199d-4401-bac2-526d95dd1bb6"
      },
      "outputs": [
        {
          "output_type": "stream",
          "name": "stderr",
          "text": [
            "/usr/local/lib/python3.12/dist-packages/sklearn/linear_model/_logistic.py:465: ConvergenceWarning: lbfgs failed to converge (status=1):\n",
            "STOP: TOTAL NO. OF ITERATIONS REACHED LIMIT.\n",
            "\n",
            "Increase the number of iterations (max_iter) or scale the data as shown in:\n",
            "    https://scikit-learn.org/stable/modules/preprocessing.html\n",
            "Please also refer to the documentation for alternative solver options:\n",
            "    https://scikit-learn.org/stable/modules/linear_model.html#logistic-regression\n",
            "  n_iter_i = _check_optimize_result(\n"
          ]
        },
        {
          "output_type": "stream",
          "name": "stdout",
          "text": [
            "------------------------------\n",
            "CASO A: Logistic Regression\n",
            "Accuracy: 0.9722222222222222\n",
            "Precision (ponderada): 0.974074074074074\n",
            "Recall (ponderado): 0.9722222222222222\n",
            "F1-score (ponderado): 0.972097284690988\n",
            "\n",
            "Matriz de confusión:\n",
            "         class_0  class_1  class_2\n",
            "class_0       11        1        0\n",
            "class_1        0       14        0\n",
            "class_2        0        0       10\n",
            "\n",
            "------------------------------\n",
            "CASO B: Ramdom Forest Classifier\n",
            "Accuracy: 1.0\n",
            "Precision (ponderada): 1.0\n",
            "Recall (ponderado): 1.0\n",
            "F1-score (ponderado): 1.0\n",
            "\n",
            "Matriz de confusión:\n",
            "         class_0  class_1  class_2\n",
            "class_0       12        0        0\n",
            "class_1        0       13        1\n",
            "class_2        0        0       10\n",
            "\n"
          ]
        }
      ],
      "source": [
        "\n",
        "# Impotar librerías\n",
        "from sklearn.datasets import load_wine\n",
        "from sklearn.model_selection import train_test_split\n",
        "from sklearn.linear_model import LogisticRegression\n",
        "from sklearn.ensemble import RandomForestClassifier\n",
        "from sklearn.metrics import accuracy_score, precision_score, recall_score, f1_score, confusion_matrix\n",
        "import pandas as pd\n",
        "\n",
        "# Variables\n",
        "_random_state = None\n",
        "\n",
        "# Cargar datos\n",
        "data = load_wine()\n",
        "X, y = data.data, data.target\n",
        "\n",
        "#################################\n",
        "# Caso A: Logistic regression\n",
        "\n",
        "# Dividir datos\n",
        "X_train_A, X_test_A, y_train_A, y_test_A = train_test_split(\n",
        "    X,\n",
        "    y,\n",
        "    test_size=0.2,\n",
        "    random_state=_random_state,\n",
        "    stratify=y\n",
        "    )\n",
        "\n",
        "# Entrenamiento\n",
        "model_A = LogisticRegression(max_iter=200)\n",
        "model_A.fit(X_train_A, y_train_A)\n",
        "\n",
        "# Predecir\n",
        "y_pred_A = model_A.predict(X_test_A)\n",
        "\n",
        "# Calcular métricas\n",
        "acc_A = accuracy_score(y_test_A, y_pred_A)\n",
        "prec_A = precision_score(y_test_A, y_pred_A, average='weighted')\n",
        "rec_A = recall_score(y_test_A, y_pred_A, average='weighted')\n",
        "f1_A = f1_score(y_test_A, y_pred_A, average='weighted')\n",
        "\n",
        "# Calcular matriz de confusión\n",
        "cm_A = confusion_matrix(y_test_A, y_pred_A)\n",
        "cm_df_A = pd.DataFrame(cm_A, index=data.target_names, columns=data.target_names)\n",
        "\n",
        "# Imprimir resultados\n",
        "print(\"-\"*30)\n",
        "print(\"CASO A: Logistic Regression\")\n",
        "print(\"Accuracy:\", acc_A)\n",
        "print(\"Precision (ponderada):\", prec_A)\n",
        "print(\"Recall (ponderado):\", rec_A)\n",
        "print(\"F1-score (ponderado):\", f1_A)\n",
        "print(\"\\nMatriz de confusión:\")\n",
        "print(cm_df_A)\n",
        "print(\"\")\n",
        "\n",
        "#################################\n",
        "# Caso B: Ramdom forest classif\n",
        "X_train_B, X_test_B, y_train_B, y_test_B = train_test_split(\n",
        "    X,\n",
        "    y,\n",
        "    test_size=0.2,\n",
        "    random_state=_random_state,\n",
        "    stratify=y\n",
        "    )\n",
        "\n",
        "# Entrenamiento\n",
        "model_B = RandomForestClassifier(random_state=_random_state)\n",
        "model_B.fit(X_train_B, y_train_B)\n",
        "\n",
        "# Predecir\n",
        "y_pred_B = model_B.predict(X_test_B)\n",
        "\n",
        "# Calcular métricas\n",
        "acc_B = accuracy_score(y_test_B, y_test_B)\n",
        "prec_B = precision_score(y_test_B, y_test_B, average='weighted')\n",
        "rec_B = recall_score(y_test_B, y_test_B, average='weighted')\n",
        "f1_B = f1_score(y_test_B, y_test_B, average='weighted')\n",
        "\n",
        "# Calcular matriz de confusión\n",
        "cm_B = confusion_matrix(y_test_B, y_pred_B)\n",
        "cm_df_B = pd.DataFrame(cm_B, index=data.target_names, columns=data.target_names)\n",
        "\n",
        "# Imprimir resultados\n",
        "print(\"-\"*30)\n",
        "print(\"CASO B: Ramdom Forest Classifier\")\n",
        "print(\"Accuracy:\", acc_B)\n",
        "print(\"Precision (ponderada):\", prec_B)\n",
        "print(\"Recall (ponderado):\", rec_B)\n",
        "print(\"F1-score (ponderado):\", f1_B)\n",
        "print(\"\\nMatriz de confusión:\")\n",
        "print(cm_df_B)\n",
        "print(\"\")"
      ]
    }
  ]
}
